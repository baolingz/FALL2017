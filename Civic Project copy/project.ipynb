{
 "cells": [
  {
   "cell_type": "code",
   "execution_count": 126,
   "metadata": {
    "collapsed": true
   },
   "outputs": [],
   "source": [
    "import numpy as np\n",
    "import pandas as pd\n",
    "from matplotlib.pylab import plt\n",
    "import statsmodels.formula.api as smf\n",
    "%matplotlib inline"
   ]
  },
  {
   "cell_type": "code",
   "execution_count": 2,
   "metadata": {
    "collapsed": true
   },
   "outputs": [],
   "source": [
    "df = pd.read_csv('data1.csv')"
   ]
  },
  {
   "cell_type": "code",
   "execution_count": 476,
   "metadata": {},
   "outputs": [
    {
     "data": {
      "text/html": [
       "<div>\n",
       "<style>\n",
       "    .dataframe thead tr:only-child th {\n",
       "        text-align: right;\n",
       "    }\n",
       "\n",
       "    .dataframe thead th {\n",
       "        text-align: left;\n",
       "    }\n",
       "\n",
       "    .dataframe tbody tr th {\n",
       "        vertical-align: top;\n",
       "    }\n",
       "</style>\n",
       "<table border=\"1\" class=\"dataframe\">\n",
       "  <thead>\n",
       "    <tr style=\"text-align: right;\">\n",
       "      <th></th>\n",
       "      <th>feature</th>\n",
       "      <th>neighborhood</th>\n",
       "      <th>2005</th>\n",
       "      <th>2006</th>\n",
       "      <th>2007</th>\n",
       "      <th>2008</th>\n",
       "      <th>2009</th>\n",
       "      <th>2010</th>\n",
       "      <th>2011</th>\n",
       "      <th>2012</th>\n",
       "      <th>2013</th>\n",
       "      <th>2014</th>\n",
       "      <th>2015</th>\n",
       "      <th>2016</th>\n",
       "      <th>public_housing</th>\n",
       "      <th>pc</th>\n",
       "      <th>avg</th>\n",
       "      <th>%Rac_index</th>\n",
       "    </tr>\n",
       "  </thead>\n",
       "  <tbody>\n",
       "    <tr>\n",
       "      <th>0</th>\n",
       "      <td>Racial diversity index</td>\n",
       "      <td>Astoria</td>\n",
       "      <td>0.670619</td>\n",
       "      <td>0.670942</td>\n",
       "      <td>0.669935</td>\n",
       "      <td>0.636760</td>\n",
       "      <td>0.608331</td>\n",
       "      <td>0.672337</td>\n",
       "      <td>0.655666</td>\n",
       "      <td>0.635969</td>\n",
       "      <td>0.679418</td>\n",
       "      <td>0.669118</td>\n",
       "      <td>0.656954</td>\n",
       "      <td>0.668059</td>\n",
       "      <td>1</td>\n",
       "      <td>1</td>\n",
       "      <td>0.603203</td>\n",
       "      <td>0.000644</td>\n",
       "    </tr>\n",
       "    <tr>\n",
       "      <th>1</th>\n",
       "      <td>Percent Asian</td>\n",
       "      <td>Astoria</td>\n",
       "      <td>0.150157</td>\n",
       "      <td>0.129747</td>\n",
       "      <td>0.159438</td>\n",
       "      <td>0.099759</td>\n",
       "      <td>0.105809</td>\n",
       "      <td>0.144667</td>\n",
       "      <td>0.121605</td>\n",
       "      <td>0.130391</td>\n",
       "      <td>0.163289</td>\n",
       "      <td>0.133342</td>\n",
       "      <td>0.160800</td>\n",
       "      <td>0.167634</td>\n",
       "      <td>1</td>\n",
       "      <td>1</td>\n",
       "      <td>0.128753</td>\n",
       "      <td>0.034242</td>\n",
       "    </tr>\n",
       "    <tr>\n",
       "      <th>2</th>\n",
       "      <td>Percent black</td>\n",
       "      <td>Astoria</td>\n",
       "      <td>0.063915</td>\n",
       "      <td>0.066903</td>\n",
       "      <td>0.053279</td>\n",
       "      <td>0.062808</td>\n",
       "      <td>0.062281</td>\n",
       "      <td>0.068520</td>\n",
       "      <td>0.074994</td>\n",
       "      <td>0.061926</td>\n",
       "      <td>0.085265</td>\n",
       "      <td>0.059455</td>\n",
       "      <td>0.050838</td>\n",
       "      <td>0.063981</td>\n",
       "      <td>1</td>\n",
       "      <td>1</td>\n",
       "      <td>0.058264</td>\n",
       "      <td>0.020158</td>\n",
       "    </tr>\n",
       "    <tr>\n",
       "      <th>3</th>\n",
       "      <td>Percent Hispanic</td>\n",
       "      <td>Astoria</td>\n",
       "      <td>0.308259</td>\n",
       "      <td>0.312709</td>\n",
       "      <td>0.290948</td>\n",
       "      <td>0.294173</td>\n",
       "      <td>0.251942</td>\n",
       "      <td>0.291553</td>\n",
       "      <td>0.306169</td>\n",
       "      <td>0.257533</td>\n",
       "      <td>0.252014</td>\n",
       "      <td>0.316690</td>\n",
       "      <td>0.267161</td>\n",
       "      <td>0.265112</td>\n",
       "      <td>1</td>\n",
       "      <td>1</td>\n",
       "      <td>0.259008</td>\n",
       "      <td>-0.006181</td>\n",
       "    </tr>\n",
       "    <tr>\n",
       "      <th>4</th>\n",
       "      <td>Percent white</td>\n",
       "      <td>Astoria</td>\n",
       "      <td>0.455769</td>\n",
       "      <td>0.458215</td>\n",
       "      <td>0.465999</td>\n",
       "      <td>0.512646</td>\n",
       "      <td>0.559571</td>\n",
       "      <td>0.465872</td>\n",
       "      <td>0.479774</td>\n",
       "      <td>0.526185</td>\n",
       "      <td>0.472374</td>\n",
       "      <td>0.457465</td>\n",
       "      <td>0.493184</td>\n",
       "      <td>0.479022</td>\n",
       "      <td>1</td>\n",
       "      <td>1</td>\n",
       "      <td>0.445525</td>\n",
       "      <td>0.008059</td>\n",
       "    </tr>\n",
       "  </tbody>\n",
       "</table>\n",
       "</div>"
      ],
      "text/plain": [
       "                  feature neighborhood      2005      2006      2007  \\\n",
       "0  Racial diversity index      Astoria  0.670619  0.670942  0.669935   \n",
       "1           Percent Asian      Astoria  0.150157  0.129747  0.159438   \n",
       "2           Percent black      Astoria  0.063915  0.066903  0.053279   \n",
       "3        Percent Hispanic      Astoria  0.308259  0.312709  0.290948   \n",
       "4           Percent white      Astoria  0.455769  0.458215  0.465999   \n",
       "\n",
       "       2008      2009      2010      2011      2012      2013      2014  \\\n",
       "0  0.636760  0.608331  0.672337  0.655666  0.635969  0.679418  0.669118   \n",
       "1  0.099759  0.105809  0.144667  0.121605  0.130391  0.163289  0.133342   \n",
       "2  0.062808  0.062281  0.068520  0.074994  0.061926  0.085265  0.059455   \n",
       "3  0.294173  0.251942  0.291553  0.306169  0.257533  0.252014  0.316690   \n",
       "4  0.512646  0.559571  0.465872  0.479774  0.526185  0.472374  0.457465   \n",
       "\n",
       "       2015      2016  public_housing  pc       avg  %Rac_index  \n",
       "0  0.656954  0.668059               1   1  0.603203    0.000644  \n",
       "1  0.160800  0.167634               1   1  0.128753    0.034242  \n",
       "2  0.050838  0.063981               1   1  0.058264    0.020158  \n",
       "3  0.267161  0.265112               1   1  0.259008   -0.006181  \n",
       "4  0.493184  0.479022               1   1  0.445525    0.008059  "
      ]
     },
     "execution_count": 476,
     "metadata": {},
     "output_type": "execute_result"
    }
   ],
   "source": [
    "df.head()"
   ]
  },
  {
   "cell_type": "code",
   "execution_count": 256,
   "metadata": {
    "collapsed": true
   },
   "outputs": [],
   "source": [
    "del df['2000']"
   ]
  },
  {
   "cell_type": "code",
   "execution_count": 6,
   "metadata": {},
   "outputs": [],
   "source": [
    "df['avg'] = (df['2005'] + df['2006'] + df['2007'] + df['2008'] + df['2009'] + df['2010'] + df['2012'] \\\n",
    "                + df['2013'] + df['2014']  + df['2015'] + df['2016'])/12"
   ]
  },
  {
   "cell_type": "code",
   "execution_count": 80,
   "metadata": {
    "collapsed": true
   },
   "outputs": [],
   "source": [
    "df['%Rac_index'] = (df['2006']/df['2005'] + df['2007']/df['2006'] + df['2008']/df['2007'] \\\n",
    "                     + df['2009']/df['2008'] + df['2010']/df['2009'] + df['2011']/df['2010']\\\n",
    "                     + df['2012']/df['2011'] + df['2013']/df['2012'] + df['2014']/df['2013']\\\n",
    "                     + df['2015']/df['2014'] + df['2016']/df['2015'] - 11)/11"
   ]
  },
  {
   "cell_type": "code",
   "execution_count": 8,
   "metadata": {
    "collapsed": true
   },
   "outputs": [],
   "source": [
    "df.rename(columns={'Unnamed: 0': 'feature', 'Unnamed: 1': 'neighborhood'}, inplace=True)"
   ]
  },
  {
   "cell_type": "code",
   "execution_count": null,
   "metadata": {
    "collapsed": true
   },
   "outputs": [],
   "source": [
    "np.shape()"
   ]
  },
  {
   "cell_type": "code",
   "execution_count": 295,
   "metadata": {},
   "outputs": [
    {
     "data": {
      "text/plain": [
       "1.1813814860608078"
      ]
     },
     "execution_count": 295,
     "metadata": {},
     "output_type": "execute_result"
    }
   ],
   "source": [
    "-(df.iloc[1][2] * np.log(df.iloc[1][2]) + df.iloc[2][2] \\\n",
    "  * np.log(df.iloc[2][2]) + df.iloc[3][2] * np.log(df.iloc[3][2]) + df.iloc[4][2] * np.log(df.iloc[4][2]))\n"
   ]
  },
  {
   "cell_type": "code",
   "execution_count": 306,
   "metadata": {},
   "outputs": [],
   "source": [
    "df_entropy = np.ones((50,12))"
   ]
  },
  {
   "cell_type": "code",
   "execution_count": 307,
   "metadata": {},
   "outputs": [
    {
     "data": {
      "text/plain": [
       "1.0"
      ]
     },
     "execution_count": 307,
     "metadata": {},
     "output_type": "execute_result"
    }
   ],
   "source": [
    "df_entropy[49][3]"
   ]
  },
  {
   "cell_type": "code",
   "execution_count": 308,
   "metadata": {},
   "outputs": [
    {
     "name": "stderr",
     "output_type": "stream",
     "text": [
      "/Users/zhoubaoling/anaconda/lib/python3.6/site-packages/ipykernel_launcher.py:3: RuntimeWarning: divide by zero encountered in log\n",
      "  This is separate from the ipykernel package so we can avoid doing imports until\n",
      "/Users/zhoubaoling/anaconda/lib/python3.6/site-packages/ipykernel_launcher.py:3: RuntimeWarning: invalid value encountered in double_scalars\n",
      "  This is separate from the ipykernel package so we can avoid doing imports until\n"
     ]
    }
   ],
   "source": [
    "for i in range(50):\n",
    "    for j in range(12):\n",
    "        df_entropy[i][j] = -(df.iloc[14*i+1][j+2] * np.log(df.iloc[14*i+1][j+2]) \\\n",
    "                             + df.iloc[14*i+2][j+2] * np.log(df.iloc[14*i+2][j+2]) \\\n",
    "                             + df.iloc[14*i+3][j+2] * np.log(df.iloc[14*i+3][j+2]) \\\n",
    "                             + df.iloc[14*i+4][j+2] * np.log(df.iloc[14*i+4][j+2]))"
   ]
  },
  {
   "cell_type": "code",
   "execution_count": 664,
   "metadata": {},
   "outputs": [],
   "source": [
    "avg_entropy = np.average(df_entropy, axis=1)"
   ]
  },
  {
   "cell_type": "code",
   "execution_count": 304,
   "metadata": {},
   "outputs": [
    {
     "data": {
      "text/plain": [
       "0.98784508309554064"
      ]
     },
     "execution_count": 304,
     "metadata": {},
     "output_type": "execute_result"
    }
   ],
   "source": [
    "df_entropy[0][1]/df_entropy[0][0]"
   ]
  },
  {
   "cell_type": "code",
   "execution_count": 315,
   "metadata": {
    "collapsed": true
   },
   "outputs": [],
   "source": [
    "df_entropy_inc = np.ones((50,11))"
   ]
  },
  {
   "cell_type": "code",
   "execution_count": 319,
   "metadata": {
    "collapsed": true
   },
   "outputs": [],
   "source": [
    "entropy_avg_inc = np.ones(50)"
   ]
  },
  {
   "cell_type": "code",
   "execution_count": 523,
   "metadata": {},
   "outputs": [],
   "source": [
    "for i in range(50):\n",
    "    x = 0\n",
    "    for j in range(11):\n",
    "        x += df_entropy[i][j+1]/df_entropy[i][j] - 1\n",
    "    entropy_avg_inc[i] = x/11"
   ]
  },
  {
   "cell_type": "code",
   "execution_count": 524,
   "metadata": {},
   "outputs": [
    {
     "data": {
      "text/plain": [
       "array([ 0.00077143,  0.01082461,  0.01080025,  0.03980226,  0.01454399,\n",
       "        0.00090271, -0.00397943,         nan,         nan,  0.03667429,\n",
       "        0.00329914,         nan,  0.03583271,  0.01331886,  0.0001431 ,\n",
       "       -0.00542488,  0.00376949,  0.00090697, -0.0071538 , -0.00731879,\n",
       "               nan,  0.00194415, -0.00801718,  0.00996458, -0.01985631,\n",
       "        0.00279478,         nan,  0.0057533 ,  0.00599331,  0.00764952,\n",
       "        0.03439212, -0.00094989,  0.00248257,  0.00561515, -0.00302942,\n",
       "        0.00758812,         nan,  0.00167333,  0.02399079, -0.00206396,\n",
       "        0.00757926, -0.00039636,  0.0029836 ,         nan,         nan,\n",
       "        0.03196137,  0.00489335,  0.0129556 , -0.00462167, -0.00409958])"
      ]
     },
     "execution_count": 524,
     "metadata": {},
     "output_type": "execute_result"
    }
   ],
   "source": [
    "entropy_avg_inc"
   ]
  },
  {
   "cell_type": "code",
   "execution_count": 85,
   "metadata": {},
   "outputs": [],
   "source": [
    "df1 = df[['feature', 'neighborhood','public_housing', 'pc', 'avg','%Rac_index']]"
   ]
  },
  {
   "cell_type": "code",
   "execution_count": 86,
   "metadata": {},
   "outputs": [],
   "source": [
    "df_1 = df1.groupby('neighborhood').mean()"
   ]
  },
  {
   "cell_type": "code",
   "execution_count": 87,
   "metadata": {},
   "outputs": [],
   "source": [
    "df_2 = df1.pivot(index='neighborhood', columns='feature', values='avg')"
   ]
  },
  {
   "cell_type": "code",
   "execution_count": 88,
   "metadata": {},
   "outputs": [],
   "source": [
    "df_1.reset_index(inplace=True)"
   ]
  },
  {
   "cell_type": "code",
   "execution_count": 89,
   "metadata": {
    "collapsed": true
   },
   "outputs": [],
   "source": [
    "df_2.reset_index(inplace=True)"
   ]
  },
  {
   "cell_type": "code",
   "execution_count": 90,
   "metadata": {},
   "outputs": [
    {
     "data": {
      "text/plain": [
       "Index(['neighborhood', 'Foreign-born population',\n",
       "       'Median household income ($2016)', 'Median rent, all ($2016)',\n",
       "       'Percent Asian', 'Percent Hispanic', 'Percent black', 'Percent white',\n",
       "       'Population aged 25+ with a bachelor's degree or higher',\n",
       "       'Population aged 25+ without a high school diploma',\n",
       "       'Population density (1,000 persons per square mile)', 'Poverty rate',\n",
       "       'Racial diversity index', 'Severely rent-burdened households',\n",
       "       'Unemployment rate'],\n",
       "      dtype='object', name='feature')"
      ]
     },
     "execution_count": 90,
     "metadata": {},
     "output_type": "execute_result"
    }
   ],
   "source": [
    "df_2.columns"
   ]
  },
  {
   "cell_type": "code",
   "execution_count": 105,
   "metadata": {},
   "outputs": [],
   "source": [
    "df_3 = df1.pivot(index='neighborhood', columns='feature', values='%Rac_index')"
   ]
  },
  {
   "cell_type": "code",
   "execution_count": 106,
   "metadata": {
    "collapsed": true
   },
   "outputs": [],
   "source": [
    "df_3.reset_index(inplace=True)"
   ]
  },
  {
   "cell_type": "code",
   "execution_count": 330,
   "metadata": {},
   "outputs": [
    {
     "data": {
      "text/plain": [
       "Index(['neighborhood', '%inc_rac'], dtype='object', name='feature')"
      ]
     },
     "execution_count": 330,
     "metadata": {},
     "output_type": "execute_result"
    }
   ],
   "source": [
    "df_3.columns"
   ]
  },
  {
   "cell_type": "code",
   "execution_count": 108,
   "metadata": {},
   "outputs": [],
   "source": [
    "df_3 = df_3[['neighborhood','Racial diversity index']]"
   ]
  },
  {
   "cell_type": "code",
   "execution_count": 109,
   "metadata": {},
   "outputs": [],
   "source": [
    "df_3.rename(columns={'Racial diversity index': '%inc_rac'}, inplace=True)"
   ]
  },
  {
   "cell_type": "code",
   "execution_count": 45,
   "metadata": {},
   "outputs": [],
   "source": [
    "df_1 = df_1[['neighborhood', 'public_housing', 'pc']]"
   ]
  },
  {
   "cell_type": "code",
   "execution_count": 665,
   "metadata": {},
   "outputs": [],
   "source": [
    "df2 = pd.merge(df_1, df_2, on='neighborhood')"
   ]
  },
  {
   "cell_type": "code",
   "execution_count": 666,
   "metadata": {
    "collapsed": true
   },
   "outputs": [],
   "source": [
    "df2 = pd.merge(df_3, df2, on='neighborhood')"
   ]
  },
  {
   "cell_type": "code",
   "execution_count": 667,
   "metadata": {
    "collapsed": true
   },
   "outputs": [],
   "source": [
    "df2['entropy_index'] = entropy_avg_inc"
   ]
  },
  {
   "cell_type": "code",
   "execution_count": 668,
   "metadata": {
    "collapsed": true
   },
   "outputs": [],
   "source": [
    "df2['avg_entropy'] = avg_entropy"
   ]
  },
  {
   "cell_type": "code",
   "execution_count": 669,
   "metadata": {
    "collapsed": true
   },
   "outputs": [],
   "source": [
    "del df2['avg']\n",
    "del df2['%Rac_index']\n",
    "del df2['Severely rent-burdened households']"
   ]
  },
  {
   "cell_type": "code",
   "execution_count": 530,
   "metadata": {},
   "outputs": [
    {
     "data": {
      "text/html": [
       "<div>\n",
       "<style>\n",
       "    .dataframe thead tr:only-child th {\n",
       "        text-align: right;\n",
       "    }\n",
       "\n",
       "    .dataframe thead th {\n",
       "        text-align: left;\n",
       "    }\n",
       "\n",
       "    .dataframe tbody tr th {\n",
       "        vertical-align: top;\n",
       "    }\n",
       "</style>\n",
       "<table border=\"1\" class=\"dataframe\">\n",
       "  <thead>\n",
       "    <tr style=\"text-align: right;\">\n",
       "      <th></th>\n",
       "      <th>neighborhood</th>\n",
       "      <th>%inc_rac</th>\n",
       "      <th>public_housing</th>\n",
       "      <th>pc</th>\n",
       "      <th>Foreign-born population</th>\n",
       "      <th>Median household income ($2016)</th>\n",
       "      <th>Median rent, all ($2016)</th>\n",
       "      <th>Percent Asian</th>\n",
       "      <th>Percent Hispanic</th>\n",
       "      <th>Percent black</th>\n",
       "      <th>Percent white</th>\n",
       "      <th>Population aged 25+ with a bachelor's degree or higher</th>\n",
       "      <th>Population aged 25+ without a high school diploma</th>\n",
       "      <th>Population density (1,000 persons per square mile)</th>\n",
       "      <th>Poverty rate</th>\n",
       "      <th>Racial diversity index</th>\n",
       "      <th>Unemployment rate</th>\n",
       "      <th>entropy_index</th>\n",
       "    </tr>\n",
       "  </thead>\n",
       "  <tbody>\n",
       "    <tr>\n",
       "      <th>0</th>\n",
       "      <td>Astoria</td>\n",
       "      <td>0.000644</td>\n",
       "      <td>1</td>\n",
       "      <td>1</td>\n",
       "      <td>0.392772</td>\n",
       "      <td>49549.166667</td>\n",
       "      <td>1255.833333</td>\n",
       "      <td>0.128753</td>\n",
       "      <td>0.259008</td>\n",
       "      <td>0.058264</td>\n",
       "      <td>0.445525</td>\n",
       "      <td>0.349426</td>\n",
       "      <td>0.175516</td>\n",
       "      <td>31.947523</td>\n",
       "      <td>0.155483</td>\n",
       "      <td>0.603203</td>\n",
       "      <td>0.076709</td>\n",
       "      <td>0.000771</td>\n",
       "    </tr>\n",
       "    <tr>\n",
       "      <th>1</th>\n",
       "      <td>Bay Ridge</td>\n",
       "      <td>0.012565</td>\n",
       "      <td>0</td>\n",
       "      <td>2</td>\n",
       "      <td>0.344772</td>\n",
       "      <td>54985.833333</td>\n",
       "      <td>1181.666667</td>\n",
       "      <td>0.195073</td>\n",
       "      <td>0.137477</td>\n",
       "      <td>0.011473</td>\n",
       "      <td>0.557862</td>\n",
       "      <td>0.336984</td>\n",
       "      <td>0.174121</td>\n",
       "      <td>27.213311</td>\n",
       "      <td>0.139571</td>\n",
       "      <td>0.511470</td>\n",
       "      <td>0.071961</td>\n",
       "      <td>0.010825</td>\n",
       "    </tr>\n",
       "    <tr>\n",
       "      <th>2</th>\n",
       "      <td>Bayside/Little Neck</td>\n",
       "      <td>0.010789</td>\n",
       "      <td>0</td>\n",
       "      <td>2</td>\n",
       "      <td>0.373039</td>\n",
       "      <td>72825.833333</td>\n",
       "      <td>1425.833333</td>\n",
       "      <td>0.343406</td>\n",
       "      <td>0.104808</td>\n",
       "      <td>0.017399</td>\n",
       "      <td>0.433627</td>\n",
       "      <td>0.385103</td>\n",
       "      <td>0.106135</td>\n",
       "      <td>11.760409</td>\n",
       "      <td>0.064371</td>\n",
       "      <td>0.565575</td>\n",
       "      <td>0.054655</td>\n",
       "      <td>0.010800</td>\n",
       "    </tr>\n",
       "    <tr>\n",
       "      <th>3</th>\n",
       "      <td>Bedford Stuyvesant</td>\n",
       "      <td>0.040840</td>\n",
       "      <td>1</td>\n",
       "      <td>1</td>\n",
       "      <td>0.182408</td>\n",
       "      <td>35744.166667</td>\n",
       "      <td>958.333333</td>\n",
       "      <td>0.024777</td>\n",
       "      <td>0.172577</td>\n",
       "      <td>0.546291</td>\n",
       "      <td>0.157402</td>\n",
       "      <td>0.219454</td>\n",
       "      <td>0.228207</td>\n",
       "      <td>54.877558</td>\n",
       "      <td>0.295008</td>\n",
       "      <td>0.521812</td>\n",
       "      <td>0.110150</td>\n",
       "      <td>0.039802</td>\n",
       "    </tr>\n",
       "    <tr>\n",
       "      <th>4</th>\n",
       "      <td>Bensonhurst</td>\n",
       "      <td>0.016954</td>\n",
       "      <td>0</td>\n",
       "      <td>2</td>\n",
       "      <td>0.488615</td>\n",
       "      <td>43542.500000</td>\n",
       "      <td>1080.000000</td>\n",
       "      <td>0.319712</td>\n",
       "      <td>0.122215</td>\n",
       "      <td>0.006548</td>\n",
       "      <td>0.457205</td>\n",
       "      <td>0.223780</td>\n",
       "      <td>0.254830</td>\n",
       "      <td>44.780297</td>\n",
       "      <td>0.157542</td>\n",
       "      <td>0.554404</td>\n",
       "      <td>0.070757</td>\n",
       "      <td>0.014544</td>\n",
       "    </tr>\n",
       "  </tbody>\n",
       "</table>\n",
       "</div>"
      ],
      "text/plain": [
       "          neighborhood  %inc_rac  public_housing  pc  Foreign-born population  \\\n",
       "0              Astoria  0.000644               1   1                 0.392772   \n",
       "1            Bay Ridge  0.012565               0   2                 0.344772   \n",
       "2  Bayside/Little Neck  0.010789               0   2                 0.373039   \n",
       "3   Bedford Stuyvesant  0.040840               1   1                 0.182408   \n",
       "4          Bensonhurst  0.016954               0   2                 0.488615   \n",
       "\n",
       "   Median household income ($2016)  Median rent, all ($2016)  Percent Asian  \\\n",
       "0                     49549.166667               1255.833333       0.128753   \n",
       "1                     54985.833333               1181.666667       0.195073   \n",
       "2                     72825.833333               1425.833333       0.343406   \n",
       "3                     35744.166667                958.333333       0.024777   \n",
       "4                     43542.500000               1080.000000       0.319712   \n",
       "\n",
       "   Percent Hispanic  Percent black  Percent white  \\\n",
       "0          0.259008       0.058264       0.445525   \n",
       "1          0.137477       0.011473       0.557862   \n",
       "2          0.104808       0.017399       0.433627   \n",
       "3          0.172577       0.546291       0.157402   \n",
       "4          0.122215       0.006548       0.457205   \n",
       "\n",
       "   Population aged 25+ with a bachelor's degree or higher  \\\n",
       "0                                           0.349426        \n",
       "1                                           0.336984        \n",
       "2                                           0.385103        \n",
       "3                                           0.219454        \n",
       "4                                           0.223780        \n",
       "\n",
       "   Population aged 25+ without a high school diploma  \\\n",
       "0                                           0.175516   \n",
       "1                                           0.174121   \n",
       "2                                           0.106135   \n",
       "3                                           0.228207   \n",
       "4                                           0.254830   \n",
       "\n",
       "   Population density (1,000 persons per square mile)  Poverty rate  \\\n",
       "0                                          31.947523       0.155483   \n",
       "1                                          27.213311       0.139571   \n",
       "2                                          11.760409       0.064371   \n",
       "3                                          54.877558       0.295008   \n",
       "4                                          44.780297       0.157542   \n",
       "\n",
       "   Racial diversity index  Unemployment rate  entropy_index  \n",
       "0                0.603203           0.076709       0.000771  \n",
       "1                0.511470           0.071961       0.010825  \n",
       "2                0.565575           0.054655       0.010800  \n",
       "3                0.521812           0.110150       0.039802  \n",
       "4                0.554404           0.070757       0.014544  "
      ]
     },
     "execution_count": 530,
     "metadata": {},
     "output_type": "execute_result"
    }
   ],
   "source": [
    "df2.head()"
   ]
  },
  {
   "cell_type": "code",
   "execution_count": 670,
   "metadata": {
    "collapsed": true
   },
   "outputs": [],
   "source": [
    "df2.to_csv('cleaned_data.csv')"
   ]
  },
  {
   "cell_type": "code",
   "execution_count": 671,
   "metadata": {
    "collapsed": true
   },
   "outputs": [],
   "source": [
    "df3 = pd.read_csv('cleaned_data.csv')"
   ]
  },
  {
   "cell_type": "code",
   "execution_count": 672,
   "metadata": {
    "collapsed": true
   },
   "outputs": [],
   "source": [
    "del df3['Unnamed: 0']"
   ]
  },
  {
   "cell_type": "code",
   "execution_count": 673,
   "metadata": {},
   "outputs": [
    {
     "data": {
      "text/plain": [
       "Index(['neighborhood', '%inc_rac', 'public_housing', 'pc',\n",
       "       'Foreign-born population', 'Median household income ($2016)',\n",
       "       'Median rent, all ($2016)', 'Percent Asian', 'Percent Hispanic',\n",
       "       'Percent black', 'Percent white',\n",
       "       'Population aged 25+ with a bachelor's degree or higher',\n",
       "       'Population aged 25+ without a high school diploma',\n",
       "       'Population density (1,000 persons per square mile)', 'Poverty rate',\n",
       "       'Racial diversity index', 'Unemployment rate', 'entropy_index',\n",
       "       'avg_entropy'],\n",
       "      dtype='object')"
      ]
     },
     "execution_count": 673,
     "metadata": {},
     "output_type": "execute_result"
    }
   ],
   "source": [
    "df3.columns"
   ]
  },
  {
   "cell_type": "code",
   "execution_count": 565,
   "metadata": {},
   "outputs": [
    {
     "data": {
      "text/html": [
       "<div>\n",
       "<style>\n",
       "    .dataframe thead tr:only-child th {\n",
       "        text-align: right;\n",
       "    }\n",
       "\n",
       "    .dataframe thead th {\n",
       "        text-align: left;\n",
       "    }\n",
       "\n",
       "    .dataframe tbody tr th {\n",
       "        vertical-align: top;\n",
       "    }\n",
       "</style>\n",
       "<table border=\"1\" class=\"dataframe\">\n",
       "  <thead>\n",
       "    <tr style=\"text-align: right;\">\n",
       "      <th></th>\n",
       "      <th>neighborhood</th>\n",
       "      <th>%inc_rac</th>\n",
       "      <th>public_housing</th>\n",
       "      <th>pc</th>\n",
       "      <th>Foreign-born population</th>\n",
       "      <th>Median household income ($2016)</th>\n",
       "      <th>Median rent, all ($2016)</th>\n",
       "      <th>Percent Asian</th>\n",
       "      <th>Percent Hispanic</th>\n",
       "      <th>Percent black</th>\n",
       "      <th>Percent white</th>\n",
       "      <th>Population aged 25+ with a bachelor's degree or higher</th>\n",
       "      <th>Population aged 25+ without a high school diploma</th>\n",
       "      <th>Population density (1,000 persons per square mile)</th>\n",
       "      <th>Poverty rate</th>\n",
       "      <th>Racial diversity index</th>\n",
       "      <th>Unemployment rate</th>\n",
       "      <th>entropy_index</th>\n",
       "    </tr>\n",
       "  </thead>\n",
       "  <tbody>\n",
       "    <tr>\n",
       "      <th>0</th>\n",
       "      <td>Astoria</td>\n",
       "      <td>0.000644</td>\n",
       "      <td>1</td>\n",
       "      <td>1</td>\n",
       "      <td>0.392772</td>\n",
       "      <td>49549.166667</td>\n",
       "      <td>1255.833333</td>\n",
       "      <td>0.128753</td>\n",
       "      <td>0.259008</td>\n",
       "      <td>0.058264</td>\n",
       "      <td>0.445525</td>\n",
       "      <td>0.349426</td>\n",
       "      <td>0.175516</td>\n",
       "      <td>31.947523</td>\n",
       "      <td>0.155483</td>\n",
       "      <td>0.603203</td>\n",
       "      <td>0.076709</td>\n",
       "      <td>0.000771</td>\n",
       "    </tr>\n",
       "    <tr>\n",
       "      <th>1</th>\n",
       "      <td>Bay Ridge</td>\n",
       "      <td>0.012565</td>\n",
       "      <td>0</td>\n",
       "      <td>2</td>\n",
       "      <td>0.344772</td>\n",
       "      <td>54985.833333</td>\n",
       "      <td>1181.666667</td>\n",
       "      <td>0.195073</td>\n",
       "      <td>0.137477</td>\n",
       "      <td>0.011473</td>\n",
       "      <td>0.557862</td>\n",
       "      <td>0.336984</td>\n",
       "      <td>0.174121</td>\n",
       "      <td>27.213311</td>\n",
       "      <td>0.139571</td>\n",
       "      <td>0.511470</td>\n",
       "      <td>0.071961</td>\n",
       "      <td>0.010825</td>\n",
       "    </tr>\n",
       "    <tr>\n",
       "      <th>2</th>\n",
       "      <td>Bayside/Little Neck</td>\n",
       "      <td>0.010789</td>\n",
       "      <td>0</td>\n",
       "      <td>2</td>\n",
       "      <td>0.373039</td>\n",
       "      <td>72825.833333</td>\n",
       "      <td>1425.833333</td>\n",
       "      <td>0.343406</td>\n",
       "      <td>0.104808</td>\n",
       "      <td>0.017399</td>\n",
       "      <td>0.433627</td>\n",
       "      <td>0.385103</td>\n",
       "      <td>0.106135</td>\n",
       "      <td>11.760409</td>\n",
       "      <td>0.064371</td>\n",
       "      <td>0.565575</td>\n",
       "      <td>0.054655</td>\n",
       "      <td>0.010800</td>\n",
       "    </tr>\n",
       "    <tr>\n",
       "      <th>3</th>\n",
       "      <td>Bedford Stuyvesant</td>\n",
       "      <td>0.040840</td>\n",
       "      <td>1</td>\n",
       "      <td>1</td>\n",
       "      <td>0.182408</td>\n",
       "      <td>35744.166667</td>\n",
       "      <td>958.333333</td>\n",
       "      <td>0.024777</td>\n",
       "      <td>0.172577</td>\n",
       "      <td>0.546291</td>\n",
       "      <td>0.157402</td>\n",
       "      <td>0.219454</td>\n",
       "      <td>0.228207</td>\n",
       "      <td>54.877558</td>\n",
       "      <td>0.295008</td>\n",
       "      <td>0.521812</td>\n",
       "      <td>0.110150</td>\n",
       "      <td>0.039802</td>\n",
       "    </tr>\n",
       "    <tr>\n",
       "      <th>4</th>\n",
       "      <td>Bensonhurst</td>\n",
       "      <td>0.016954</td>\n",
       "      <td>0</td>\n",
       "      <td>2</td>\n",
       "      <td>0.488615</td>\n",
       "      <td>43542.500000</td>\n",
       "      <td>1080.000000</td>\n",
       "      <td>0.319712</td>\n",
       "      <td>0.122215</td>\n",
       "      <td>0.006548</td>\n",
       "      <td>0.457205</td>\n",
       "      <td>0.223780</td>\n",
       "      <td>0.254830</td>\n",
       "      <td>44.780297</td>\n",
       "      <td>0.157542</td>\n",
       "      <td>0.554404</td>\n",
       "      <td>0.070757</td>\n",
       "      <td>0.014544</td>\n",
       "    </tr>\n",
       "  </tbody>\n",
       "</table>\n",
       "</div>"
      ],
      "text/plain": [
       "          neighborhood  %inc_rac  public_housing  pc  Foreign-born population  \\\n",
       "0              Astoria  0.000644               1   1                 0.392772   \n",
       "1            Bay Ridge  0.012565               0   2                 0.344772   \n",
       "2  Bayside/Little Neck  0.010789               0   2                 0.373039   \n",
       "3   Bedford Stuyvesant  0.040840               1   1                 0.182408   \n",
       "4          Bensonhurst  0.016954               0   2                 0.488615   \n",
       "\n",
       "   Median household income ($2016)  Median rent, all ($2016)  Percent Asian  \\\n",
       "0                     49549.166667               1255.833333       0.128753   \n",
       "1                     54985.833333               1181.666667       0.195073   \n",
       "2                     72825.833333               1425.833333       0.343406   \n",
       "3                     35744.166667                958.333333       0.024777   \n",
       "4                     43542.500000               1080.000000       0.319712   \n",
       "\n",
       "   Percent Hispanic  Percent black  Percent white  \\\n",
       "0          0.259008       0.058264       0.445525   \n",
       "1          0.137477       0.011473       0.557862   \n",
       "2          0.104808       0.017399       0.433627   \n",
       "3          0.172577       0.546291       0.157402   \n",
       "4          0.122215       0.006548       0.457205   \n",
       "\n",
       "   Population aged 25+ with a bachelor's degree or higher  \\\n",
       "0                                           0.349426        \n",
       "1                                           0.336984        \n",
       "2                                           0.385103        \n",
       "3                                           0.219454        \n",
       "4                                           0.223780        \n",
       "\n",
       "   Population aged 25+ without a high school diploma  \\\n",
       "0                                           0.175516   \n",
       "1                                           0.174121   \n",
       "2                                           0.106135   \n",
       "3                                           0.228207   \n",
       "4                                           0.254830   \n",
       "\n",
       "   Population density (1,000 persons per square mile)  Poverty rate  \\\n",
       "0                                          31.947523       0.155483   \n",
       "1                                          27.213311       0.139571   \n",
       "2                                          11.760409       0.064371   \n",
       "3                                          54.877558       0.295008   \n",
       "4                                          44.780297       0.157542   \n",
       "\n",
       "   Racial diversity index  Unemployment rate  entropy_index  \n",
       "0                0.603203           0.076709       0.000771  \n",
       "1                0.511470           0.071961       0.010825  \n",
       "2                0.565575           0.054655       0.010800  \n",
       "3                0.521812           0.110150       0.039802  \n",
       "4                0.554404           0.070757       0.014544  "
      ]
     },
     "execution_count": 565,
     "metadata": {},
     "output_type": "execute_result"
    }
   ],
   "source": [
    "df3.head()"
   ]
  },
  {
   "cell_type": "markdown",
   "metadata": {},
   "source": [
    "df4 = df3[['Foreign-born population',\n",
    "       'Median household income ($2016)', 'Median rent, all ($2016)',\n",
    "       'Percent Asian', 'Percent Hispanic', 'Percent black', 'Percent white',\n",
    "       \"Population aged 25+ with a bachelor's degree or higher\",\n",
    "       'Population aged 25+ without a high school diploma',\n",
    "       'Population density (1,000 persons per square mile)', 'Poverty rate',\n",
    "       'Racial diversity index', 'Unemployment rate']]"
   ]
  },
  {
   "cell_type": "markdown",
   "metadata": {},
   "source": [
    "from scipy.spatial.distance import cdist, pdist\n",
    "from sklearn.cluster import KMeans\n",
    "\n",
    "def elbow(data,K):\n",
    "#data is your input as numpy form\n",
    "#K is a list of number of clusters you would like to show.\n",
    "    # Run the KMeans model and save all the results for each number of clusters\n",
    "    KM = [KMeans(n_clusters=k).fit(data) for k in K]\n",
    "    \n",
    "    # Save the centroids for each model with a increasing k\n",
    "    centroids = [k.cluster_centers_ for k in KM]\n",
    "\n",
    "    # For each k, get the distance between the data with each center. \n",
    "    D_k = [cdist(data, cent, 'euclidean') for cent in centroids]\n",
    "    \n",
    "    # But we only need the distance to the nearest centroid since we only calculate dist(x,ci) for its own cluster.\n",
    "    globals()['dist'] = [np.min(D,axis=1) for D in D_k]\n",
    "    \n",
    "    # Calculate the Average SSE.\n",
    "    avgWithinSS = [sum(d)/data.shape[0] for d in dist]\n",
    "    \n",
    "    \n",
    "    # elbow curve\n",
    "    fig = plt.figure()\n",
    "    ax = fig.add_subplot(111)\n",
    "    ax.plot(K, avgWithinSS, 'b*-')\n",
    "    plt.grid(True)\n",
    "    plt.xlabel('Number of clusters')\n",
    "    plt.ylabel('Average within-cluster sum of squares')\n",
    "    plt.title('Elbow for KMeans clustering')\n",
    "    plt.show()\n",
    "    \n",
    "    \n",
    "    # Total with-in sum of square plot. Another way to show the result.\n",
    "    wcss = [sum(d**2) for d in dist]\n",
    "    tss = sum(pdist(data)**2)/data.shape[0]\n",
    "    bss = tss-wcss\n",
    "    \n",
    "    fig = plt.figure()\n",
    "    ax = fig.add_subplot(111)\n",
    "    ax.plot(K, bss/tss*100, 'b*-')\n",
    "    plt.grid(True)\n",
    "    plt.xlabel('Number of clusters')\n",
    "    plt.ylabel('Percentage of variance explained')\n",
    "    plt.title('Elbow for KMeans clustering')\n",
    "    plt.show()"
   ]
  },
  {
   "cell_type": "markdown",
   "metadata": {},
   "source": [
    "elbow(df4, range(1,30))"
   ]
  },
  {
   "cell_type": "markdown",
   "metadata": {},
   "source": [
    "from sklearn.metrics import silhouette_samples, silhouette_score\n",
    "import matplotlib.cm as cm\n",
    "import numpy as np\n",
    "\n",
    "X=df4\n",
    "range_n_clusters = [2, 3, 4, 5]\n",
    "for n_clusters in range_n_clusters:\n",
    "    km = KMeans(n_clusters=n_clusters, random_state=324)\n",
    "    cluster_labels = km.fit_predict(X)\n",
    "    silhouette_avg = silhouette_score(X, cluster_labels)\n",
    "    print(\"For n_clusters ={},\".format(n_clusters)+\" the average silhouette_score is :{}\".format(silhouette_avg))"
   ]
  },
  {
   "cell_type": "code",
   "execution_count": 566,
   "metadata": {},
   "outputs": [
    {
     "data": {
      "text/plain": [
       "Index(['neighborhood', '%inc_rac', 'public_housing', 'pc',\n",
       "       'Foreign-born population', 'Median household income ($2016)',\n",
       "       'Median rent, all ($2016)', 'Percent Asian', 'Percent Hispanic',\n",
       "       'Percent black', 'Percent white',\n",
       "       'Population aged 25+ with a bachelor's degree or higher',\n",
       "       'Population aged 25+ without a high school diploma',\n",
       "       'Population density (1,000 persons per square mile)', 'Poverty rate',\n",
       "       'Racial diversity index', 'Unemployment rate', 'entropy_index'],\n",
       "      dtype='object')"
      ]
     },
     "execution_count": 566,
     "metadata": {},
     "output_type": "execute_result"
    }
   ],
   "source": [
    "df3.columns"
   ]
  },
  {
   "cell_type": "code",
   "execution_count": 674,
   "metadata": {},
   "outputs": [],
   "source": [
    "df3.columns = ['neighborhood', 'perc_inc_rac', 'public_housing', 'pc', \\\n",
    "       'Foreign_born', 'income', \\\n",
    "       'rent', 'perc_Asian', 'perc_Hispanic', \\\n",
    "       'perc_black', 'perc_white',\n",
    "       'bachelor_up', \\\n",
    "       'high_school_below', \\\n",
    "       'Population_density', 'Poverty_rate', \\\n",
    "       'Racial_diversity_index', 'Unemployment_rate', 'perc_entropy_change','avg_entropy']"
   ]
  },
  {
   "cell_type": "code",
   "execution_count": 592,
   "metadata": {},
   "outputs": [
    {
     "data": {
      "text/plain": [
       "Index(['neighborhood', 'perc_inc_rac', 'public_housing', 'pc', 'Foreign_born',\n",
       "       'income', 'rent', 'perc_Asian', 'perc_Hispanic', 'perc_black',\n",
       "       'perc_white', 'bachelor_up', 'high_school_below', 'Population_density',\n",
       "       'Poverty_rate', 'Racial_diversity_index', 'Unemployment_rate',\n",
       "       'perc_entropy_change', 'log_income', 'log_rent',\n",
       "       'predicted_entropy_change'],\n",
       "      dtype='object')"
      ]
     },
     "execution_count": 592,
     "metadata": {},
     "output_type": "execute_result"
    }
   ],
   "source": [
    "df3.columns"
   ]
  },
  {
   "cell_type": "code",
   "execution_count": 675,
   "metadata": {},
   "outputs": [],
   "source": [
    "df3 = df3.dropna(axis=0)"
   ]
  },
  {
   "cell_type": "code",
   "execution_count": 676,
   "metadata": {},
   "outputs": [
    {
     "name": "stdout",
     "output_type": "stream",
     "text": [
      "Sample size for neighborhood with more than or equal to 10% public housing: 16.\n",
      "Sample size for neighborhood with less than 10% public housing: 26.\n"
     ]
    }
   ],
   "source": [
    "a = df3[df3.public_housing == 1]['public_housing'].count()\n",
    "b = df3[df3.public_housing == 0]['public_housing'].count()\n",
    "print ('Sample size for neighborhood with more than or equal to 10%% public housing: %d.'%a)\n",
    "print ('Sample size for neighborhood with less than 10%% public housing: %d.'%b)"
   ]
  },
  {
   "cell_type": "code",
   "execution_count": 677,
   "metadata": {},
   "outputs": [],
   "source": [
    "df3['perc_inc_rac'] = df3['perc_inc_rac'] * 100"
   ]
  },
  {
   "cell_type": "code",
   "execution_count": 678,
   "metadata": {},
   "outputs": [],
   "source": [
    "df3['perc_entropy_change'] = df3['perc_entropy_change'] * 100 #convert percentage into digits"
   ]
  },
  {
   "cell_type": "code",
   "execution_count": 573,
   "metadata": {},
   "outputs": [
    {
     "data": {
      "text/plain": [
       "0    0.064351\n",
       "1    1.256484\n",
       "2    1.078863\n",
       "3    4.084041\n",
       "4    1.695436\n",
       "Name: perc_inc_rac, dtype: float64"
      ]
     },
     "execution_count": 573,
     "metadata": {},
     "output_type": "execute_result"
    }
   ],
   "source": [
    "df3['perc_inc_rac'].head()"
   ]
  },
  {
   "cell_type": "markdown",
   "metadata": {},
   "source": [
    "lm = smf.ols('perc_inc_rac ~ C(public_housing) + Foreign_born + income + rent + perc_Asian + perc_Hispanic + perc_black + perc_white + bachelor_up + high_school_below + Population_density + Poverty_rate + Unemployment_rate'\n",
    "             ,data=df3).fit()\n",
    "lm.summary()"
   ]
  },
  {
   "cell_type": "code",
   "execution_count": 679,
   "metadata": {},
   "outputs": [],
   "source": [
    "df3['log_income'] = np.log(df3['income'])"
   ]
  },
  {
   "cell_type": "code",
   "execution_count": 680,
   "metadata": {},
   "outputs": [],
   "source": [
    "df3['log_rent'] = np.log(df3['rent'])"
   ]
  },
  {
   "cell_type": "code",
   "execution_count": 681,
   "metadata": {},
   "outputs": [],
   "source": [
    "df4 = df3[df3.pc!=2]"
   ]
  },
  {
   "cell_type": "code",
   "execution_count": 682,
   "metadata": {},
   "outputs": [
    {
     "name": "stdout",
     "output_type": "stream",
     "text": [
      "Sample size for neighborhood with more than or equal to 10% public housing: 16.\n",
      "Sample size for neighborhood with less than 10% public housing: 16.\n"
     ]
    }
   ],
   "source": [
    "c = df4[df4.pc == 1]['pc'].count()\n",
    "d = df4[df4.pc == 0]['pc'].count()\n",
    "print ('Sample size for neighborhood with more than or equal to 10%% public housing: %d.'%c)\n",
    "print ('Sample size for neighborhood with less than 10%% public housing: %d.'%d)"
   ]
  },
  {
   "cell_type": "code",
   "execution_count": 683,
   "metadata": {},
   "outputs": [
    {
     "data": {
      "text/html": [
       "<table class=\"simpletable\">\n",
       "<caption>OLS Regression Results</caption>\n",
       "<tr>\n",
       "  <th>Dep. Variable:</th>    <td>perc_entropy_change</td> <th>  R-squared:         </th> <td>   0.679</td>\n",
       "</tr>\n",
       "<tr>\n",
       "  <th>Model:</th>                    <td>OLS</td>         <th>  Adj. R-squared:    </th> <td>   0.586</td>\n",
       "</tr>\n",
       "<tr>\n",
       "  <th>Method:</th>              <td>Least Squares</td>    <th>  F-statistic:       </th> <td>   7.268</td>\n",
       "</tr>\n",
       "<tr>\n",
       "  <th>Date:</th>              <td>Mon, 20 Nov 2017</td>   <th>  Prob (F-statistic):</th> <td>0.000103</td>\n",
       "</tr>\n",
       "<tr>\n",
       "  <th>Time:</th>                  <td>13:30:51</td>       <th>  Log-Likelihood:    </th> <td> -38.026</td>\n",
       "</tr>\n",
       "<tr>\n",
       "  <th>No. Observations:</th>       <td>    32</td>        <th>  AIC:               </th> <td>   92.05</td>\n",
       "</tr>\n",
       "<tr>\n",
       "  <th>Df Residuals:</th>           <td>    24</td>        <th>  BIC:               </th> <td>   103.8</td>\n",
       "</tr>\n",
       "<tr>\n",
       "  <th>Df Model:</th>               <td>     7</td>        <th>                     </th>     <td> </td>   \n",
       "</tr>\n",
       "<tr>\n",
       "  <th>Covariance Type:</th>       <td>nonrobust</td>      <th>                     </th>     <td> </td>   \n",
       "</tr>\n",
       "</table>\n",
       "<table class=\"simpletable\">\n",
       "<tr>\n",
       "           <td></td>             <th>coef</th>     <th>std err</th>      <th>t</th>      <th>P>|t|</th>  <th>[0.025</th>    <th>0.975]</th>  \n",
       "</tr>\n",
       "<tr>\n",
       "  <th>Intercept</th>          <td>   68.6911</td> <td>   25.367</td> <td>    2.708</td> <td> 0.012</td> <td>   16.335</td> <td>  121.047</td>\n",
       "</tr>\n",
       "<tr>\n",
       "  <th>C(pc)[T.1]</th>         <td>   -0.9276</td> <td>    0.486</td> <td>   -1.908</td> <td> 0.068</td> <td>   -1.931</td> <td>    0.076</td>\n",
       "</tr>\n",
       "<tr>\n",
       "  <th>perc_Asian</th>         <td>   -4.0098</td> <td>    2.063</td> <td>   -1.943</td> <td> 0.064</td> <td>   -8.269</td> <td>    0.249</td>\n",
       "</tr>\n",
       "<tr>\n",
       "  <th>perc_Hispanic</th>      <td>   -5.9675</td> <td>    1.445</td> <td>   -4.130</td> <td> 0.000</td> <td>   -8.950</td> <td>   -2.985</td>\n",
       "</tr>\n",
       "<tr>\n",
       "  <th>Foreign_born</th>       <td>   -7.1275</td> <td>    3.991</td> <td>   -1.786</td> <td> 0.087</td> <td>  -15.365</td> <td>    1.110</td>\n",
       "</tr>\n",
       "<tr>\n",
       "  <th>log_income</th>         <td>   -5.6996</td> <td>    2.102</td> <td>   -2.711</td> <td> 0.012</td> <td>  -10.038</td> <td>   -1.361</td>\n",
       "</tr>\n",
       "<tr>\n",
       "  <th>Population_density</th> <td>    0.0232</td> <td>    0.008</td> <td>    2.919</td> <td> 0.008</td> <td>    0.007</td> <td>    0.040</td>\n",
       "</tr>\n",
       "<tr>\n",
       "  <th>Poverty_rate</th>       <td>  -15.2373</td> <td>   10.063</td> <td>   -1.514</td> <td> 0.143</td> <td>  -36.005</td> <td>    5.531</td>\n",
       "</tr>\n",
       "</table>\n",
       "<table class=\"simpletable\">\n",
       "<tr>\n",
       "  <th>Omnibus:</th>       <td> 5.907</td> <th>  Durbin-Watson:     </th> <td>   2.060</td>\n",
       "</tr>\n",
       "<tr>\n",
       "  <th>Prob(Omnibus):</th> <td> 0.052</td> <th>  Jarque-Bera (JB):  </th> <td>   5.850</td>\n",
       "</tr>\n",
       "<tr>\n",
       "  <th>Skew:</th>          <td>-0.384</td> <th>  Prob(JB):          </th> <td>  0.0537</td>\n",
       "</tr>\n",
       "<tr>\n",
       "  <th>Kurtosis:</th>      <td> 4.949</td> <th>  Cond. No.          </th> <td>8.48e+03</td>\n",
       "</tr>\n",
       "</table>"
      ],
      "text/plain": [
       "<class 'statsmodels.iolib.summary.Summary'>\n",
       "\"\"\"\n",
       "                             OLS Regression Results                            \n",
       "===============================================================================\n",
       "Dep. Variable:     perc_entropy_change   R-squared:                       0.679\n",
       "Model:                             OLS   Adj. R-squared:                  0.586\n",
       "Method:                  Least Squares   F-statistic:                     7.268\n",
       "Date:                 Mon, 20 Nov 2017   Prob (F-statistic):           0.000103\n",
       "Time:                         13:30:51   Log-Likelihood:                -38.026\n",
       "No. Observations:                   32   AIC:                             92.05\n",
       "Df Residuals:                       24   BIC:                             103.8\n",
       "Df Model:                            7                                         \n",
       "Covariance Type:             nonrobust                                         \n",
       "======================================================================================\n",
       "                         coef    std err          t      P>|t|      [0.025      0.975]\n",
       "--------------------------------------------------------------------------------------\n",
       "Intercept             68.6911     25.367      2.708      0.012      16.335     121.047\n",
       "C(pc)[T.1]            -0.9276      0.486     -1.908      0.068      -1.931       0.076\n",
       "perc_Asian            -4.0098      2.063     -1.943      0.064      -8.269       0.249\n",
       "perc_Hispanic         -5.9675      1.445     -4.130      0.000      -8.950      -2.985\n",
       "Foreign_born          -7.1275      3.991     -1.786      0.087     -15.365       1.110\n",
       "log_income            -5.6996      2.102     -2.711      0.012     -10.038      -1.361\n",
       "Population_density     0.0232      0.008      2.919      0.008       0.007       0.040\n",
       "Poverty_rate         -15.2373     10.063     -1.514      0.143     -36.005       5.531\n",
       "==============================================================================\n",
       "Omnibus:                        5.907   Durbin-Watson:                   2.060\n",
       "Prob(Omnibus):                  0.052   Jarque-Bera (JB):                5.850\n",
       "Skew:                          -0.384   Prob(JB):                       0.0537\n",
       "Kurtosis:                       4.949   Cond. No.                     8.48e+03\n",
       "==============================================================================\n",
       "\n",
       "Warnings:\n",
       "[1] Standard Errors assume that the covariance matrix of the errors is correctly specified.\n",
       "[2] The condition number is large, 8.48e+03. This might indicate that there are\n",
       "strong multicollinearity or other numerical problems.\n",
       "\"\"\""
      ]
     },
     "execution_count": 683,
     "metadata": {},
     "output_type": "execute_result"
    }
   ],
   "source": [
    "lm = smf.ols('perc_entropy_change ~ C(pc) + perc_Asian + perc_Hispanic + Foreign_born + log_income + Population_density + Poverty_rate'\n",
    "             ,data=df4).fit()\n",
    "lm.summary()"
   ]
  },
  {
   "cell_type": "code",
   "execution_count": 684,
   "metadata": {},
   "outputs": [
    {
     "data": {
      "text/html": [
       "<table class=\"simpletable\">\n",
       "<caption>OLS Regression Results</caption>\n",
       "<tr>\n",
       "  <th>Dep. Variable:</th>    <td>perc_entropy_change</td> <th>  R-squared:         </th> <td>   0.638</td>\n",
       "</tr>\n",
       "<tr>\n",
       "  <th>Model:</th>                    <td>OLS</td>         <th>  Adj. R-squared:    </th> <td>   0.506</td>\n",
       "</tr>\n",
       "<tr>\n",
       "  <th>Method:</th>              <td>Least Squares</td>    <th>  F-statistic:       </th> <td>   4.814</td>\n",
       "</tr>\n",
       "<tr>\n",
       "  <th>Date:</th>              <td>Mon, 20 Nov 2017</td>   <th>  Prob (F-statistic):</th> <td>0.000293</td>\n",
       "</tr>\n",
       "<tr>\n",
       "  <th>Time:</th>                  <td>13:30:55</td>       <th>  Log-Likelihood:    </th> <td> -49.262</td>\n",
       "</tr>\n",
       "<tr>\n",
       "  <th>No. Observations:</th>       <td>    42</td>        <th>  AIC:               </th> <td>   122.5</td>\n",
       "</tr>\n",
       "<tr>\n",
       "  <th>Df Residuals:</th>           <td>    30</td>        <th>  BIC:               </th> <td>   143.4</td>\n",
       "</tr>\n",
       "<tr>\n",
       "  <th>Df Model:</th>               <td>    11</td>        <th>                     </th>     <td> </td>   \n",
       "</tr>\n",
       "<tr>\n",
       "  <th>Covariance Type:</th>       <td>nonrobust</td>      <th>                     </th>     <td> </td>   \n",
       "</tr>\n",
       "</table>\n",
       "<table class=\"simpletable\">\n",
       "<tr>\n",
       "             <td></td>               <th>coef</th>     <th>std err</th>      <th>t</th>      <th>P>|t|</th>  <th>[0.025</th>    <th>0.975]</th>  \n",
       "</tr>\n",
       "<tr>\n",
       "  <th>Intercept</th>              <td>   77.2026</td> <td>   28.143</td> <td>    2.743</td> <td> 0.010</td> <td>   19.728</td> <td>  134.677</td>\n",
       "</tr>\n",
       "<tr>\n",
       "  <th>C(public_housing)[T.1]</th> <td>   -1.0587</td> <td>    0.489</td> <td>   -2.163</td> <td> 0.039</td> <td>   -2.058</td> <td>   -0.059</td>\n",
       "</tr>\n",
       "<tr>\n",
       "  <th>Foreign_born</th>           <td>   -8.0363</td> <td>    3.527</td> <td>   -2.279</td> <td> 0.030</td> <td>  -15.239</td> <td>   -0.834</td>\n",
       "</tr>\n",
       "<tr>\n",
       "  <th>log_income</th>             <td>   -6.9368</td> <td>    2.397</td> <td>   -2.894</td> <td> 0.007</td> <td>  -11.833</td> <td>   -2.041</td>\n",
       "</tr>\n",
       "<tr>\n",
       "  <th>perc_Asian</th>             <td>    2.6709</td> <td>    2.237</td> <td>    1.194</td> <td> 0.242</td> <td>   -1.898</td> <td>    7.240</td>\n",
       "</tr>\n",
       "<tr>\n",
       "  <th>perc_black</th>             <td>    6.4830</td> <td>    1.753</td> <td>    3.699</td> <td> 0.001</td> <td>    2.903</td> <td>   10.063</td>\n",
       "</tr>\n",
       "<tr>\n",
       "  <th>perc_white</th>             <td>    3.0540</td> <td>    1.965</td> <td>    1.554</td> <td> 0.131</td> <td>   -0.959</td> <td>    7.067</td>\n",
       "</tr>\n",
       "<tr>\n",
       "  <th>bachelor_up</th>            <td>    5.5862</td> <td>    3.685</td> <td>    1.516</td> <td> 0.140</td> <td>   -1.940</td> <td>   13.113</td>\n",
       "</tr>\n",
       "<tr>\n",
       "  <th>high_school_below</th>      <td>   12.3409</td> <td>    6.697</td> <td>    1.843</td> <td> 0.075</td> <td>   -1.336</td> <td>   26.017</td>\n",
       "</tr>\n",
       "<tr>\n",
       "  <th>Population_density</th>     <td>    0.0153</td> <td>    0.010</td> <td>    1.524</td> <td> 0.138</td> <td>   -0.005</td> <td>    0.036</td>\n",
       "</tr>\n",
       "<tr>\n",
       "  <th>Poverty_rate</th>           <td>  -25.2530</td> <td>    9.322</td> <td>   -2.709</td> <td> 0.011</td> <td>  -44.291</td> <td>   -6.215</td>\n",
       "</tr>\n",
       "<tr>\n",
       "  <th>Unemployment_rate</th>      <td>  -16.7991</td> <td>   14.867</td> <td>   -1.130</td> <td> 0.267</td> <td>  -47.161</td> <td>   13.563</td>\n",
       "</tr>\n",
       "</table>\n",
       "<table class=\"simpletable\">\n",
       "<tr>\n",
       "  <th>Omnibus:</th>       <td> 3.793</td> <th>  Durbin-Watson:     </th> <td>   1.574</td>\n",
       "</tr>\n",
       "<tr>\n",
       "  <th>Prob(Omnibus):</th> <td> 0.150</td> <th>  Jarque-Bera (JB):  </th> <td>   3.284</td>\n",
       "</tr>\n",
       "<tr>\n",
       "  <th>Skew:</th>          <td> 0.183</td> <th>  Prob(JB):          </th> <td>   0.194</td>\n",
       "</tr>\n",
       "<tr>\n",
       "  <th>Kurtosis:</th>      <td> 4.320</td> <th>  Cond. No.          </th> <td>1.03e+04</td>\n",
       "</tr>\n",
       "</table>"
      ],
      "text/plain": [
       "<class 'statsmodels.iolib.summary.Summary'>\n",
       "\"\"\"\n",
       "                             OLS Regression Results                            \n",
       "===============================================================================\n",
       "Dep. Variable:     perc_entropy_change   R-squared:                       0.638\n",
       "Model:                             OLS   Adj. R-squared:                  0.506\n",
       "Method:                  Least Squares   F-statistic:                     4.814\n",
       "Date:                 Mon, 20 Nov 2017   Prob (F-statistic):           0.000293\n",
       "Time:                         13:30:55   Log-Likelihood:                -49.262\n",
       "No. Observations:                   42   AIC:                             122.5\n",
       "Df Residuals:                       30   BIC:                             143.4\n",
       "Df Model:                           11                                         \n",
       "Covariance Type:             nonrobust                                         \n",
       "==========================================================================================\n",
       "                             coef    std err          t      P>|t|      [0.025      0.975]\n",
       "------------------------------------------------------------------------------------------\n",
       "Intercept                 77.2026     28.143      2.743      0.010      19.728     134.677\n",
       "C(public_housing)[T.1]    -1.0587      0.489     -2.163      0.039      -2.058      -0.059\n",
       "Foreign_born              -8.0363      3.527     -2.279      0.030     -15.239      -0.834\n",
       "log_income                -6.9368      2.397     -2.894      0.007     -11.833      -2.041\n",
       "perc_Asian                 2.6709      2.237      1.194      0.242      -1.898       7.240\n",
       "perc_black                 6.4830      1.753      3.699      0.001       2.903      10.063\n",
       "perc_white                 3.0540      1.965      1.554      0.131      -0.959       7.067\n",
       "bachelor_up                5.5862      3.685      1.516      0.140      -1.940      13.113\n",
       "high_school_below         12.3409      6.697      1.843      0.075      -1.336      26.017\n",
       "Population_density         0.0153      0.010      1.524      0.138      -0.005       0.036\n",
       "Poverty_rate             -25.2530      9.322     -2.709      0.011     -44.291      -6.215\n",
       "Unemployment_rate        -16.7991     14.867     -1.130      0.267     -47.161      13.563\n",
       "==============================================================================\n",
       "Omnibus:                        3.793   Durbin-Watson:                   1.574\n",
       "Prob(Omnibus):                  0.150   Jarque-Bera (JB):                3.284\n",
       "Skew:                           0.183   Prob(JB):                        0.194\n",
       "Kurtosis:                       4.320   Cond. No.                     1.03e+04\n",
       "==============================================================================\n",
       "\n",
       "Warnings:\n",
       "[1] Standard Errors assume that the covariance matrix of the errors is correctly specified.\n",
       "[2] The condition number is large, 1.03e+04. This might indicate that there are\n",
       "strong multicollinearity or other numerical problems.\n",
       "\"\"\""
      ]
     },
     "execution_count": 684,
     "metadata": {},
     "output_type": "execute_result"
    }
   ],
   "source": [
    "lm2 = smf.ols('perc_entropy_change ~ C(public_housing) + Foreign_born + log_income + perc_Asian + perc_black + perc_white + bachelor_up + high_school_below + Population_density + Poverty_rate + Unemployment_rate'\n",
    "             ,data=df3).fit()\n",
    "lm2.summary()"
   ]
  },
  {
   "cell_type": "code",
   "execution_count": 686,
   "metadata": {},
   "outputs": [
    {
     "data": {
      "text/html": [
       "<table class=\"simpletable\">\n",
       "<caption>OLS Regression Results</caption>\n",
       "<tr>\n",
       "  <th>Dep. Variable:</th>       <td>avg_entropy</td>   <th>  R-squared:         </th> <td>   0.443</td>\n",
       "</tr>\n",
       "<tr>\n",
       "  <th>Model:</th>                   <td>OLS</td>       <th>  Adj. R-squared:    </th> <td>   0.263</td>\n",
       "</tr>\n",
       "<tr>\n",
       "  <th>Method:</th>             <td>Least Squares</td>  <th>  F-statistic:       </th> <td>   2.466</td>\n",
       "</tr>\n",
       "<tr>\n",
       "  <th>Date:</th>             <td>Mon, 20 Nov 2017</td> <th>  Prob (F-statistic):</th>  <td>0.0265</td> \n",
       "</tr>\n",
       "<tr>\n",
       "  <th>Time:</th>                 <td>13:31:26</td>     <th>  Log-Likelihood:    </th> <td>  24.672</td>\n",
       "</tr>\n",
       "<tr>\n",
       "  <th>No. Observations:</th>      <td>    42</td>      <th>  AIC:               </th> <td>  -27.34</td>\n",
       "</tr>\n",
       "<tr>\n",
       "  <th>Df Residuals:</th>          <td>    31</td>      <th>  BIC:               </th> <td>  -8.230</td>\n",
       "</tr>\n",
       "<tr>\n",
       "  <th>Df Model:</th>              <td>    10</td>      <th>                     </th>     <td> </td>   \n",
       "</tr>\n",
       "<tr>\n",
       "  <th>Covariance Type:</th>      <td>nonrobust</td>    <th>                     </th>     <td> </td>   \n",
       "</tr>\n",
       "</table>\n",
       "<table class=\"simpletable\">\n",
       "<tr>\n",
       "           <td></td>             <th>coef</th>     <th>std err</th>      <th>t</th>      <th>P>|t|</th>  <th>[0.025</th>    <th>0.975]</th>  \n",
       "</tr>\n",
       "<tr>\n",
       "  <th>Intercept</th>          <td>   11.4159</td> <td>    4.794</td> <td>    2.381</td> <td> 0.024</td> <td>    1.638</td> <td>   21.194</td>\n",
       "</tr>\n",
       "<tr>\n",
       "  <th>Foreign_born</th>       <td>   -0.4751</td> <td>    0.515</td> <td>   -0.923</td> <td> 0.363</td> <td>   -1.525</td> <td>    0.575</td>\n",
       "</tr>\n",
       "<tr>\n",
       "  <th>log_income</th>         <td>   -0.5982</td> <td>    0.372</td> <td>   -1.609</td> <td> 0.118</td> <td>   -1.356</td> <td>    0.160</td>\n",
       "</tr>\n",
       "<tr>\n",
       "  <th>perc_Asian</th>         <td>   -3.2343</td> <td>    1.543</td> <td>   -2.096</td> <td> 0.044</td> <td>   -6.382</td> <td>   -0.087</td>\n",
       "</tr>\n",
       "<tr>\n",
       "  <th>perc_Hispanic</th>      <td>   -3.8375</td> <td>    1.470</td> <td>   -2.611</td> <td> 0.014</td> <td>   -6.835</td> <td>   -0.840</td>\n",
       "</tr>\n",
       "<tr>\n",
       "  <th>perc_black</th>         <td>   -4.0101</td> <td>    1.438</td> <td>   -2.789</td> <td> 0.009</td> <td>   -6.943</td> <td>   -1.077</td>\n",
       "</tr>\n",
       "<tr>\n",
       "  <th>perc_white</th>         <td>   -4.1559</td> <td>    1.458</td> <td>   -2.850</td> <td> 0.008</td> <td>   -7.130</td> <td>   -1.182</td>\n",
       "</tr>\n",
       "<tr>\n",
       "  <th>bachelor_up</th>        <td>    0.6260</td> <td>    0.535</td> <td>    1.170</td> <td> 0.251</td> <td>   -0.465</td> <td>    1.717</td>\n",
       "</tr>\n",
       "<tr>\n",
       "  <th>Population_density</th> <td>   -0.0026</td> <td>    0.002</td> <td>   -1.577</td> <td> 0.125</td> <td>   -0.006</td> <td>    0.001</td>\n",
       "</tr>\n",
       "<tr>\n",
       "  <th>Poverty_rate</th>       <td>   -0.9040</td> <td>    1.334</td> <td>   -0.678</td> <td> 0.503</td> <td>   -3.625</td> <td>    1.817</td>\n",
       "</tr>\n",
       "<tr>\n",
       "  <th>Unemployment_rate</th>  <td>   -3.1186</td> <td>    2.360</td> <td>   -1.321</td> <td> 0.196</td> <td>   -7.932</td> <td>    1.695</td>\n",
       "</tr>\n",
       "</table>\n",
       "<table class=\"simpletable\">\n",
       "<tr>\n",
       "  <th>Omnibus:</th>       <td> 3.956</td> <th>  Durbin-Watson:     </th> <td>   2.038</td>\n",
       "</tr>\n",
       "<tr>\n",
       "  <th>Prob(Omnibus):</th> <td> 0.138</td> <th>  Jarque-Bera (JB):  </th> <td>   2.751</td>\n",
       "</tr>\n",
       "<tr>\n",
       "  <th>Skew:</th>          <td>-0.463</td> <th>  Prob(JB):          </th> <td>   0.253</td>\n",
       "</tr>\n",
       "<tr>\n",
       "  <th>Kurtosis:</th>      <td> 3.845</td> <th>  Cond. No.          </th> <td>1.05e+04</td>\n",
       "</tr>\n",
       "</table>"
      ],
      "text/plain": [
       "<class 'statsmodels.iolib.summary.Summary'>\n",
       "\"\"\"\n",
       "                            OLS Regression Results                            \n",
       "==============================================================================\n",
       "Dep. Variable:            avg_entropy   R-squared:                       0.443\n",
       "Model:                            OLS   Adj. R-squared:                  0.263\n",
       "Method:                 Least Squares   F-statistic:                     2.466\n",
       "Date:                Mon, 20 Nov 2017   Prob (F-statistic):             0.0265\n",
       "Time:                        13:31:26   Log-Likelihood:                 24.672\n",
       "No. Observations:                  42   AIC:                            -27.34\n",
       "Df Residuals:                      31   BIC:                            -8.230\n",
       "Df Model:                          10                                         \n",
       "Covariance Type:            nonrobust                                         \n",
       "======================================================================================\n",
       "                         coef    std err          t      P>|t|      [0.025      0.975]\n",
       "--------------------------------------------------------------------------------------\n",
       "Intercept             11.4159      4.794      2.381      0.024       1.638      21.194\n",
       "Foreign_born          -0.4751      0.515     -0.923      0.363      -1.525       0.575\n",
       "log_income            -0.5982      0.372     -1.609      0.118      -1.356       0.160\n",
       "perc_Asian            -3.2343      1.543     -2.096      0.044      -6.382      -0.087\n",
       "perc_Hispanic         -3.8375      1.470     -2.611      0.014      -6.835      -0.840\n",
       "perc_black            -4.0101      1.438     -2.789      0.009      -6.943      -1.077\n",
       "perc_white            -4.1559      1.458     -2.850      0.008      -7.130      -1.182\n",
       "bachelor_up            0.6260      0.535      1.170      0.251      -0.465       1.717\n",
       "Population_density    -0.0026      0.002     -1.577      0.125      -0.006       0.001\n",
       "Poverty_rate          -0.9040      1.334     -0.678      0.503      -3.625       1.817\n",
       "Unemployment_rate     -3.1186      2.360     -1.321      0.196      -7.932       1.695\n",
       "==============================================================================\n",
       "Omnibus:                        3.956   Durbin-Watson:                   2.038\n",
       "Prob(Omnibus):                  0.138   Jarque-Bera (JB):                2.751\n",
       "Skew:                          -0.463   Prob(JB):                        0.253\n",
       "Kurtosis:                       3.845   Cond. No.                     1.05e+04\n",
       "==============================================================================\n",
       "\n",
       "Warnings:\n",
       "[1] Standard Errors assume that the covariance matrix of the errors is correctly specified.\n",
       "[2] The condition number is large, 1.05e+04. This might indicate that there are\n",
       "strong multicollinearity or other numerical problems.\n",
       "\"\"\""
      ]
     },
     "execution_count": 686,
     "metadata": {},
     "output_type": "execute_result"
    }
   ],
   "source": [
    "lm3 = smf.ols('avg_entropy ~ Foreign_born + log_income + perc_Asian + perc_Hispanic + perc_black + perc_white + bachelor_up + Population_density + Poverty_rate + Unemployment_rate'\n",
    "             ,data=df3).fit()\n",
    "lm3.summary()"
   ]
  },
  {
   "cell_type": "code",
   "execution_count": 687,
   "metadata": {},
   "outputs": [
    {
     "data": {
      "text/plain": [
       "Intercept             68.691065\n",
       "C(pc)[T.1]            -0.927624\n",
       "perc_Asian            -4.009777\n",
       "perc_Hispanic         -5.967477\n",
       "Foreign_born          -7.127534\n",
       "log_income            -5.699582\n",
       "Population_density     0.023240\n",
       "Poverty_rate         -15.237316\n",
       "dtype: float64"
      ]
     },
     "execution_count": 687,
     "metadata": {},
     "output_type": "execute_result"
    }
   ],
   "source": [
    "lm.params"
   ]
  },
  {
   "cell_type": "code",
   "execution_count": 688,
   "metadata": {},
   "outputs": [
    {
     "data": {
      "text/plain": [
       "Intercept                 77.202551\n",
       "C(public_housing)[T.1]    -1.058704\n",
       "Foreign_born              -8.036257\n",
       "log_income                -6.936763\n",
       "perc_Asian                 2.670895\n",
       "perc_black                 6.483007\n",
       "perc_white                 3.053996\n",
       "bachelor_up                5.586223\n",
       "high_school_below         12.340884\n",
       "Population_density         0.015333\n",
       "Poverty_rate             -25.253027\n",
       "Unemployment_rate        -16.799118\n",
       "dtype: float64"
      ]
     },
     "execution_count": 688,
     "metadata": {},
     "output_type": "execute_result"
    }
   ],
   "source": [
    "lm2.params"
   ]
  },
  {
   "cell_type": "code",
   "execution_count": 689,
   "metadata": {},
   "outputs": [
    {
     "data": {
      "text/plain": [
       "Intercept             11.415945\n",
       "Foreign_born          -0.475089\n",
       "log_income            -0.598189\n",
       "perc_Asian            -3.234312\n",
       "perc_Hispanic         -3.837529\n",
       "perc_black            -4.010058\n",
       "perc_white            -4.155906\n",
       "bachelor_up            0.626001\n",
       "Population_density    -0.002559\n",
       "Poverty_rate          -0.904039\n",
       "Unemployment_rate     -3.118570\n",
       "dtype: float64"
      ]
     },
     "execution_count": 689,
     "metadata": {},
     "output_type": "execute_result"
    }
   ],
   "source": [
    "lm3.params"
   ]
  },
  {
   "cell_type": "code",
   "execution_count": 690,
   "metadata": {},
   "outputs": [
    {
     "data": {
      "text/html": [
       "<div>\n",
       "<style>\n",
       "    .dataframe thead tr:only-child th {\n",
       "        text-align: right;\n",
       "    }\n",
       "\n",
       "    .dataframe thead th {\n",
       "        text-align: left;\n",
       "    }\n",
       "\n",
       "    .dataframe tbody tr th {\n",
       "        vertical-align: top;\n",
       "    }\n",
       "</style>\n",
       "<table border=\"1\" class=\"dataframe\">\n",
       "  <thead>\n",
       "    <tr style=\"text-align: right;\">\n",
       "      <th></th>\n",
       "      <th>perc_inc_rac</th>\n",
       "      <th>public_housing</th>\n",
       "      <th>pc</th>\n",
       "      <th>Foreign_born</th>\n",
       "      <th>income</th>\n",
       "      <th>rent</th>\n",
       "      <th>perc_Asian</th>\n",
       "      <th>perc_Hispanic</th>\n",
       "      <th>perc_black</th>\n",
       "      <th>perc_white</th>\n",
       "      <th>bachelor_up</th>\n",
       "      <th>high_school_below</th>\n",
       "      <th>Population_density</th>\n",
       "      <th>Poverty_rate</th>\n",
       "      <th>Racial_diversity_index</th>\n",
       "      <th>Unemployment_rate</th>\n",
       "      <th>perc_entropy_change</th>\n",
       "      <th>avg_entropy</th>\n",
       "      <th>log_income</th>\n",
       "      <th>log_rent</th>\n",
       "    </tr>\n",
       "  </thead>\n",
       "  <tbody>\n",
       "    <tr>\n",
       "      <th>count</th>\n",
       "      <td>42.000000</td>\n",
       "      <td>42.000000</td>\n",
       "      <td>42.000000</td>\n",
       "      <td>42.000000</td>\n",
       "      <td>42.000000</td>\n",
       "      <td>42.000000</td>\n",
       "      <td>42.000000</td>\n",
       "      <td>42.000000</td>\n",
       "      <td>42.000000</td>\n",
       "      <td>42.000000</td>\n",
       "      <td>42.000000</td>\n",
       "      <td>42.000000</td>\n",
       "      <td>42.000000</td>\n",
       "      <td>42.000000</td>\n",
       "      <td>42.000000</td>\n",
       "      <td>42.000000</td>\n",
       "      <td>42.000000</td>\n",
       "      <td>42.000000</td>\n",
       "      <td>42.000000</td>\n",
       "      <td>42.000000</td>\n",
       "    </tr>\n",
       "    <tr>\n",
       "      <th>mean</th>\n",
       "      <td>0.769264</td>\n",
       "      <td>0.380952</td>\n",
       "      <td>0.857143</td>\n",
       "      <td>0.339207</td>\n",
       "      <td>53400.912698</td>\n",
       "      <td>1180.317460</td>\n",
       "      <td>0.124114</td>\n",
       "      <td>0.246713</td>\n",
       "      <td>0.224497</td>\n",
       "      <td>0.296429</td>\n",
       "      <td>0.325901</td>\n",
       "      <td>0.188682</td>\n",
       "      <td>41.325432</td>\n",
       "      <td>0.180928</td>\n",
       "      <td>0.523953</td>\n",
       "      <td>0.079476</td>\n",
       "      <td>0.654508</td>\n",
       "      <td>0.994596</td>\n",
       "      <td>10.810458</td>\n",
       "      <td>7.050808</td>\n",
       "    </tr>\n",
       "    <tr>\n",
       "      <th>std</th>\n",
       "      <td>1.417112</td>\n",
       "      <td>0.491507</td>\n",
       "      <td>0.783097</td>\n",
       "      <td>0.114063</td>\n",
       "      <td>21821.096707</td>\n",
       "      <td>257.397265</td>\n",
       "      <td>0.113841</td>\n",
       "      <td>0.178880</td>\n",
       "      <td>0.231980</td>\n",
       "      <td>0.219190</td>\n",
       "      <td>0.177229</td>\n",
       "      <td>0.090973</td>\n",
       "      <td>22.224250</td>\n",
       "      <td>0.085449</td>\n",
       "      <td>0.102651</td>\n",
       "      <td>0.024942</td>\n",
       "      <td>1.315929</td>\n",
       "      <td>0.182379</td>\n",
       "      <td>0.389532</td>\n",
       "      <td>0.215720</td>\n",
       "    </tr>\n",
       "    <tr>\n",
       "      <th>min</th>\n",
       "      <td>-1.875071</td>\n",
       "      <td>0.000000</td>\n",
       "      <td>0.000000</td>\n",
       "      <td>0.152612</td>\n",
       "      <td>20435.833333</td>\n",
       "      <td>720.000000</td>\n",
       "      <td>0.007231</td>\n",
       "      <td>0.057543</td>\n",
       "      <td>0.006548</td>\n",
       "      <td>0.015281</td>\n",
       "      <td>0.079023</td>\n",
       "      <td>0.027224</td>\n",
       "      <td>9.423836</td>\n",
       "      <td>0.055540</td>\n",
       "      <td>0.194159</td>\n",
       "      <td>0.035003</td>\n",
       "      <td>-1.985631</td>\n",
       "      <td>0.403789</td>\n",
       "      <td>9.925045</td>\n",
       "      <td>6.579251</td>\n",
       "    </tr>\n",
       "    <tr>\n",
       "      <th>25%</th>\n",
       "      <td>-0.020312</td>\n",
       "      <td>0.000000</td>\n",
       "      <td>0.000000</td>\n",
       "      <td>0.241241</td>\n",
       "      <td>39493.750000</td>\n",
       "      <td>1031.666667</td>\n",
       "      <td>0.034108</td>\n",
       "      <td>0.117312</td>\n",
       "      <td>0.031041</td>\n",
       "      <td>0.107846</td>\n",
       "      <td>0.200809</td>\n",
       "      <td>0.120821</td>\n",
       "      <td>24.828769</td>\n",
       "      <td>0.114023</td>\n",
       "      <td>0.468500</td>\n",
       "      <td>0.060625</td>\n",
       "      <td>-0.081151</td>\n",
       "      <td>0.885681</td>\n",
       "      <td>10.583893</td>\n",
       "      <td>6.938931</td>\n",
       "    </tr>\n",
       "    <tr>\n",
       "      <th>50%</th>\n",
       "      <td>0.431079</td>\n",
       "      <td>0.000000</td>\n",
       "      <td>1.000000</td>\n",
       "      <td>0.340035</td>\n",
       "      <td>46681.666667</td>\n",
       "      <td>1150.833333</td>\n",
       "      <td>0.076772</td>\n",
       "      <td>0.169293</td>\n",
       "      <td>0.112076</td>\n",
       "      <td>0.253741</td>\n",
       "      <td>0.274091</td>\n",
       "      <td>0.191908</td>\n",
       "      <td>37.306429</td>\n",
       "      <td>0.164784</td>\n",
       "      <td>0.518456</td>\n",
       "      <td>0.074945</td>\n",
       "      <td>0.314137</td>\n",
       "      <td>0.986807</td>\n",
       "      <td>10.751105</td>\n",
       "      <td>7.048210</td>\n",
       "    </tr>\n",
       "    <tr>\n",
       "      <th>75%</th>\n",
       "      <td>1.218822</td>\n",
       "      <td>1.000000</td>\n",
       "      <td>1.000000</td>\n",
       "      <td>0.415681</td>\n",
       "      <td>62083.541667</td>\n",
       "      <td>1296.666667</td>\n",
       "      <td>0.175538</td>\n",
       "      <td>0.359832</td>\n",
       "      <td>0.338519</td>\n",
       "      <td>0.454285</td>\n",
       "      <td>0.366293</td>\n",
       "      <td>0.248175</td>\n",
       "      <td>52.018267</td>\n",
       "      <td>0.247554</td>\n",
       "      <td>0.599337</td>\n",
       "      <td>0.098062</td>\n",
       "      <td>1.059133</td>\n",
       "      <td>1.147957</td>\n",
       "      <td>11.036116</td>\n",
       "      <td>7.167542</td>\n",
       "    </tr>\n",
       "    <tr>\n",
       "      <th>max</th>\n",
       "      <td>4.232159</td>\n",
       "      <td>1.000000</td>\n",
       "      <td>2.000000</td>\n",
       "      <td>0.593550</td>\n",
       "      <td>109262.500000</td>\n",
       "      <td>1785.000000</td>\n",
       "      <td>0.437667</td>\n",
       "      <td>0.647032</td>\n",
       "      <td>0.811095</td>\n",
       "      <td>0.724299</td>\n",
       "      <td>0.726746</td>\n",
       "      <td>0.409587</td>\n",
       "      <td>100.079410</td>\n",
       "      <td>0.395372</td>\n",
       "      <td>0.745562</td>\n",
       "      <td>0.137846</td>\n",
       "      <td>3.980226</td>\n",
       "      <td>1.295530</td>\n",
       "      <td>11.601509</td>\n",
       "      <td>7.487174</td>\n",
       "    </tr>\n",
       "  </tbody>\n",
       "</table>\n",
       "</div>"
      ],
      "text/plain": [
       "       perc_inc_rac  public_housing         pc  Foreign_born         income  \\\n",
       "count     42.000000       42.000000  42.000000     42.000000      42.000000   \n",
       "mean       0.769264        0.380952   0.857143      0.339207   53400.912698   \n",
       "std        1.417112        0.491507   0.783097      0.114063   21821.096707   \n",
       "min       -1.875071        0.000000   0.000000      0.152612   20435.833333   \n",
       "25%       -0.020312        0.000000   0.000000      0.241241   39493.750000   \n",
       "50%        0.431079        0.000000   1.000000      0.340035   46681.666667   \n",
       "75%        1.218822        1.000000   1.000000      0.415681   62083.541667   \n",
       "max        4.232159        1.000000   2.000000      0.593550  109262.500000   \n",
       "\n",
       "              rent  perc_Asian  perc_Hispanic  perc_black  perc_white  \\\n",
       "count    42.000000   42.000000      42.000000   42.000000   42.000000   \n",
       "mean   1180.317460    0.124114       0.246713    0.224497    0.296429   \n",
       "std     257.397265    0.113841       0.178880    0.231980    0.219190   \n",
       "min     720.000000    0.007231       0.057543    0.006548    0.015281   \n",
       "25%    1031.666667    0.034108       0.117312    0.031041    0.107846   \n",
       "50%    1150.833333    0.076772       0.169293    0.112076    0.253741   \n",
       "75%    1296.666667    0.175538       0.359832    0.338519    0.454285   \n",
       "max    1785.000000    0.437667       0.647032    0.811095    0.724299   \n",
       "\n",
       "       bachelor_up  high_school_below  Population_density  Poverty_rate  \\\n",
       "count    42.000000          42.000000           42.000000     42.000000   \n",
       "mean      0.325901           0.188682           41.325432      0.180928   \n",
       "std       0.177229           0.090973           22.224250      0.085449   \n",
       "min       0.079023           0.027224            9.423836      0.055540   \n",
       "25%       0.200809           0.120821           24.828769      0.114023   \n",
       "50%       0.274091           0.191908           37.306429      0.164784   \n",
       "75%       0.366293           0.248175           52.018267      0.247554   \n",
       "max       0.726746           0.409587          100.079410      0.395372   \n",
       "\n",
       "       Racial_diversity_index  Unemployment_rate  perc_entropy_change  \\\n",
       "count               42.000000          42.000000            42.000000   \n",
       "mean                 0.523953           0.079476             0.654508   \n",
       "std                  0.102651           0.024942             1.315929   \n",
       "min                  0.194159           0.035003            -1.985631   \n",
       "25%                  0.468500           0.060625            -0.081151   \n",
       "50%                  0.518456           0.074945             0.314137   \n",
       "75%                  0.599337           0.098062             1.059133   \n",
       "max                  0.745562           0.137846             3.980226   \n",
       "\n",
       "       avg_entropy  log_income   log_rent  \n",
       "count    42.000000   42.000000  42.000000  \n",
       "mean      0.994596   10.810458   7.050808  \n",
       "std       0.182379    0.389532   0.215720  \n",
       "min       0.403789    9.925045   6.579251  \n",
       "25%       0.885681   10.583893   6.938931  \n",
       "50%       0.986807   10.751105   7.048210  \n",
       "75%       1.147957   11.036116   7.167542  \n",
       "max       1.295530   11.601509   7.487174  "
      ]
     },
     "execution_count": 690,
     "metadata": {},
     "output_type": "execute_result"
    }
   ],
   "source": [
    "df3.describe()"
   ]
  },
  {
   "cell_type": "code",
   "execution_count": 658,
   "metadata": {},
   "outputs": [
    {
     "data": {
      "text/plain": [
       "Index(['neighborhood', 'perc_inc_rac', 'public_housing', 'pc', 'Foreign_born',\n",
       "       'income', 'rent', 'perc_Asian', 'perc_Hispanic', 'perc_black',\n",
       "       'perc_white', 'bachelor_up', 'high_school_below', 'Population_density',\n",
       "       'Poverty_rate', 'Racial_diversity_index', 'Unemployment_rate',\n",
       "       'perc_entropy_change', 'log_income', 'log_rent',\n",
       "       'predicted_entropy_change'],\n",
       "      dtype='object')"
      ]
     },
     "execution_count": 658,
     "metadata": {},
     "output_type": "execute_result"
    }
   ],
   "source": [
    "df3.columns"
   ]
  },
  {
   "cell_type": "code",
   "execution_count": 717,
   "metadata": {},
   "outputs": [],
   "source": [
    "table1 = df3[['Foreign_born','income', 'rent', 'perc_Asian', 'perc_Hispanic', 'perc_black',\n",
    "       'perc_white']].describe()\n",
    "table1.to_csv('table1.csv')"
   ]
  },
  {
   "cell_type": "code",
   "execution_count": 718,
   "metadata": {},
   "outputs": [],
   "source": [
    "table2 = df3[['bachelor_up', 'high_school_below', 'Population_density',\n",
    "       'Poverty_rate', 'Unemployment_rate',\n",
    "       'perc_entropy_change','avg_entropy']].describe()\n",
    "table2.to_csv('table2.csv')"
   ]
  },
  {
   "cell_type": "code",
   "execution_count": 692,
   "metadata": {
    "collapsed": true
   },
   "outputs": [],
   "source": [
    "df3['predicted_entropy_change'] = lm2.predict()"
   ]
  },
  {
   "cell_type": "code",
   "execution_count": 693,
   "metadata": {},
   "outputs": [],
   "source": [
    "lm_1 = smf.ols('predicted_entropy_change ~ perc_entropy_change', data=df3).fit()"
   ]
  },
  {
   "cell_type": "code",
   "execution_count": 694,
   "metadata": {},
   "outputs": [
    {
     "data": {
      "text/plain": [
       "<matplotlib.text.Text at 0x125cfa1d0>"
      ]
     },
     "execution_count": 694,
     "metadata": {},
     "output_type": "execute_result"
    },
    {
     "data": {
      "image/png": "[encoded data removed]",
      "text/plain": [
       "<matplotlib.figure.Figure at 0x125d66b00>"
      ]
     },
     "metadata": {},
     "output_type": "display_data"
    }
   ],
   "source": [
    "fig = plt.figure(figsize=(13,8))\n",
    "plt.plot(df3.perc_entropy_change, lm2.predict(),'.')\n",
    "plt.plot(df3.perc_entropy_change, lm_1.predict() ,'r-')\n",
    "plt.xlabel('Actual Entropy Index Growth Rate', fontsize=16)\n",
    "plt.ylabel('Predicted Entropy Index Growth Rate', fontsize=16)\n",
    "plt.title('Predicted Entropy Index Growth Rate \\n vs \\n Actual Entropy Growth Rate ', fontsize=20)\n",
    "#plt.xlim(0, 300)\n",
    "#plt.ylim(0, 300)\n",
    "#plt.gca().set_aspect('equal', adjustable='box')\n",
    "#fig.savefig('fig1.jpg')"
   ]
  },
  {
   "cell_type": "code",
   "execution_count": 695,
   "metadata": {},
   "outputs": [
    {
     "data": {
      "image/png": "[encoded data removed]",
      "text/plain": [
       "<matplotlib.figure.Figure at 0x125854f98>"
      ]
     },
     "metadata": {},
     "output_type": "display_data"
    }
   ],
   "source": [
    "fig = plt.figure(figsize=(8,8))\n",
    "plt.hist(df3.Foreign_born[df3.public_housing == 0],color = 'y', alpha = 0.5, bins=10, label = 'pc < 10%')\n",
    "plt.hist(df3.Foreign_born[df3.public_housing == 1],color = 'r',alpha = 1.0, bins=10, label = 'pc >= 10%')\n",
    "plt.legend(fontsize = 15)\n",
    "plt.title('Histogram of %Foreign-born Population', fontsize = 20)\n",
    "plt.xlabel('% of Foreign-born Population',fontsize = 18)\n",
    "plt.ylabel('Frequency',fontsize = 18)\n",
    "fig.savefig('fig2.jpg')"
   ]
  },
  {
   "cell_type": "code",
   "execution_count": 725,
   "metadata": {},
   "outputs": [
    {
     "data": {
      "image/png": "[encoded data removed]",
      "text/plain": [
       "<matplotlib.figure.Figure at 0x127a95860>"
      ]
     },
     "metadata": {},
     "output_type": "display_data"
    }
   ],
   "source": [
    "fig = plt.figure(figsize=(8,8))\n",
    "plt.hist(df3.income[df3.public_housing == 0],color = 'y', alpha = 0.5, bins=10, label = 'pc < 10%')\n",
    "plt.hist(df3.income[df3.public_housing == 1],color = 'r',alpha = 0.6, bins=10, label = 'pc >= 10%')\n",
    "plt.title('Histogram of Median Household Income', fontsize = 20)\n",
    "plt.xlabel('Median Household Income',fontsize = 18)\n",
    "plt.ylabel('Frequency',fontsize = 18)\n",
    "plt.legend(fontsize = 16)\n",
    "fig.savefig('fig3.jpg')"
   ]
  },
  {
   "cell_type": "code",
   "execution_count": 697,
   "metadata": {},
   "outputs": [
    {
     "data": {
      "text/plain": [
       "Index(['neighborhood', 'Foreign-born population',\n",
       "       'Median household income ($2016)', 'Median rent, all ($2016)',\n",
       "       'Percent Asian', 'Percent Hispanic', 'Percent black', 'Percent white',\n",
       "       'Population aged 25+ with a bachelor's degree or higher',\n",
       "       'Population aged 25+ without a high school diploma',\n",
       "       'Population density (1,000 persons per square mile)', 'Poverty rate',\n",
       "       'Racial diversity index', 'Severely rent-burdened households',\n",
       "       'Unemployment rate'],\n",
       "      dtype='object', name='feature')"
      ]
     },
     "execution_count": 697,
     "metadata": {},
     "output_type": "execute_result"
    }
   ],
   "source": [
    "df_2.columns"
   ]
  },
  {
   "cell_type": "code",
   "execution_count": 698,
   "metadata": {},
   "outputs": [
    {
     "data": {
      "text/plain": [
       "<matplotlib.text.Text at 0x123370128>"
      ]
     },
     "execution_count": 698,
     "metadata": {},
     "output_type": "execute_result"
    },
    {
     "data": {
      "image/png": "[encoded data removed]",
      "text/plain": [
       "<matplotlib.figure.Figure at 0x124e239e8>"
      ]
     },
     "metadata": {},
     "output_type": "display_data"
    }
   ],
   "source": [
    "fig = plt.figure(figsize=(8,8))\n",
    "plt.hist(df3.perc_black[df3.pc == 0],color = 'y', alpha = 0.5, bins=10, label = 'pc < 10%')\n",
    "plt.hist(df3.perc_black[df3.pc == 1],color = 'r',alpha = 1.0, bins=10, label = 'pc >= 10%')\n",
    "plt.legend(fontsize = 15)\n",
    "plt.title('Histogram of % of Black Population', fontsize = 20)\n",
    "plt.xlabel('% of Black Population',fontsize = 18)\n",
    "plt.ylabel('Frequency',fontsize = 18)\n",
    "#fig.savefig('fig4.jpg')"
   ]
  },
  {
   "cell_type": "code",
   "execution_count": 699,
   "metadata": {},
   "outputs": [
    {
     "data": {
      "image/png": "[encoded data removed]",
      "text/plain": [
       "<matplotlib.figure.Figure at 0x12467ada0>"
      ]
     },
     "metadata": {},
     "output_type": "display_data"
    }
   ],
   "source": [
    "fig = plt.figure(figsize=(8,8))\n",
    "plt.hist(df3.Poverty_rate[df3.public_housing == 0],color = 'y', alpha = 0.5, bins=10, label = 'pc < 10%')\n",
    "plt.hist(df3.Poverty_rate[df3.public_housing == 1],color = 'r',alpha = 0.5, bins=10, label = 'pc >= 10%')\n",
    "plt.legend(fontsize = 15)\n",
    "plt.title('Histogram of Poverty Rate', fontsize = 20)\n",
    "plt.xlabel('Poverty Rate (%)',fontsize = 18)\n",
    "plt.ylabel('Frequency',fontsize = 18)\n",
    "fig.savefig('fig5.jpg')"
   ]
  },
  {
   "cell_type": "code",
   "execution_count": 700,
   "metadata": {},
   "outputs": [
    {
     "data": {
      "image/png": "[encoded data removed]",
      "text/plain": [
       "<matplotlib.figure.Figure at 0x125ce2470>"
      ]
     },
     "metadata": {},
     "output_type": "display_data"
    }
   ],
   "source": [
    "fig = plt.figure(figsize=(8,8))\n",
    "plt.hist(df3.Unemployment_rate[df3.public_housing == 0],color = 'y', alpha = 0.5, bins=10, label = 'pc < 10%')\n",
    "plt.hist(df3.Unemployment_rate[df3.public_housing == 1],color = 'r',alpha = 0.6, bins=10, label = 'pc >= 10%')\n",
    "plt.legend(fontsize = 15)\n",
    "plt.title('Histogram of Unemployment Rate', fontsize = 20)\n",
    "plt.xlabel('Unemployment Rate (%)',fontsize = 18)\n",
    "plt.ylabel('Frequency',fontsize = 18)\n",
    "fig.savefig('fig6.jpg')"
   ]
  },
  {
   "cell_type": "code",
   "execution_count": null,
   "metadata": {
    "collapsed": true
   },
   "outputs": [],
   "source": []
  },
  {
   "cell_type": "code",
   "execution_count": 723,
   "metadata": {},
   "outputs": [
    {
     "data": {
      "image/png": "[encoded data removed]",
      "text/plain": [
       "<matplotlib.figure.Figure at 0x128654ef0>"
      ]
     },
     "metadata": {},
     "output_type": "display_data"
    }
   ],
   "source": [
    "fig = plt.figure(figsize=(8,8))\n",
    "plt.hist(df3.perc_entropy_change[df3.public_housing == 0],color = 'y', alpha = 0.5, bins=10, label = 'pc < 10%')\n",
    "plt.hist(df3.perc_entropy_change[df3.public_housing == 1],color = 'r',alpha = 0.6, bins=10, label = 'pc >= 10%')\n",
    "plt.legend(fontsize = 15)\n",
    "plt.title('Histogram of Average %Change \\n in annual entropy index', fontsize = 20)\n",
    "plt.xlabel('Average % chance in annual entropy index',fontsize = 18)\n",
    "plt.ylabel('Frequency',fontsize = 18)\n",
    "fig.savefig('fig7.jpg')"
   ]
  },
  {
   "cell_type": "code",
   "execution_count": 712,
   "metadata": {},
   "outputs": [
    {
     "data": {
      "text/plain": [
       "<matplotlib.text.Text at 0x127b39748>"
      ]
     },
     "execution_count": 712,
     "metadata": {},
     "output_type": "execute_result"
    },
    {
     "data": {
      "image/png": "[encoded data removed]",
      "text/plain": [
       "<matplotlib.figure.Figure at 0x127b139b0>"
      ]
     },
     "metadata": {},
     "output_type": "display_data"
    }
   ],
   "source": [
    "fig = plt.figure(figsize=(8,8))\n",
    "plt.hist(df3.avg_entropy[df3.public_housing == 0],color = 'y', alpha = 0.5, bins=10, label = 'pc < 10%')\n",
    "plt.hist(df3.avg_entropy[df3.public_housing == 1],color = 'r',alpha = 0.6, bins=10, label = 'pc >= 10%')\n",
    "plt.legend(fontsize = 15)\n",
    "plt.title('Histogram of Average Entropy Index in Each Neighborhood', fontsize = 20)\n",
    "plt.xlabel('Average entropy index',fontsize = 18)\n",
    "plt.ylabel('Frequency',fontsize = 18)\n",
    "#fig.savefig('fig8.jpg')"
   ]
  },
  {
   "cell_type": "code",
   "execution_count": null,
   "metadata": {
    "collapsed": true
   },
   "outputs": [],
   "source": []
  }
 ],
 "metadata": {
  "kernelspec": {
   "display_name": "Python 3",
   "language": "python",
   "name": "python3"
  },
  "language_info": {
   "codemirror_mode": {
    "name": "ipython",
    "version": 3
   },
   "file_extension": ".py",
   "mimetype": "text/x-python",
   "name": "python",
   "nbconvert_exporter": "python",
   "pygments_lexer": "ipython3",
   "version": "3.6.1"
  }
 },
 "nbformat": 4,
 "nbformat_minor": 2
}
